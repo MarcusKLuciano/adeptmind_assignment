{
 "cells": [
  {
   "cell_type": "code",
   "execution_count": 1,
   "id": "e27d9abd",
   "metadata": {},
   "outputs": [],
   "source": [
    "import requests,json\n",
    "import pandas as pd\n",
    "from bs4 import BeautifulSoup as bs\n",
    "from tqdm import tqdm"
   ]
  },
  {
   "cell_type": "code",
   "execution_count": 2,
   "id": "ee50bee2",
   "metadata": {},
   "outputs": [],
   "source": [
    "def get_collections(): ## Gets all the product collections (categories).\n",
    "    headers = {\n",
    "        'authority': 'foreignfortune.com',\n",
    "        'accept': 'text/html,application/xhtml+xml,application/xml;q=0.9,image/avif,image/webp,image/apng,*/*;q=0.8,application/signed-exchange;v=b3;q=0.7',\n",
    "        'accept-language': 'en-US,en;q=0.9,en-IN;q=0.8',\n",
    "        'cache-control': 'no-cache',\n",
    "        'dnt': '1',\n",
    "        'pragma': 'no-cache',\n",
    "        'upgrade-insecure-requests': '1',\n",
    "        'user-agent': 'Mozilla/5.0 (X11; Linux x86_64) AppleWebKit/537.36 (KHTML, like Gecko) Chrome/121.0.0.0 Safari/537.36 Edg/121.0.0.0',\n",
    "    }\n",
    "\n",
    "    response = requests.get('https://foreignfortune.com/products/', headers=headers)\n",
    "    soup = bs(response.content,'lxml')\n",
    "    collections = ['https://foreignfortune.com/'+x['href'] for x in soup.find_all('a',{'class':'collection-grid-item__link'}) if x['href']!=\"#\"]\n",
    "    return collections"
   ]
  },
  {
   "cell_type": "code",
   "execution_count": 3,
   "id": "7735762b",
   "metadata": {},
   "outputs": [],
   "source": [
    "def get_collection_products(collection_link): ## Getting all product links in a category.\n",
    "    products = []\n",
    "    for i in range(1,10):\n",
    "        headers = {\n",
    "            'authority': 'foreignfortune.com',\n",
    "            'accept': 'text/html,application/xhtml+xml,application/xml;q=0.9,image/avif,image/webp,image/apng,*/*;q=0.8,application/signed-exchange;v=b3;q=0.7',\n",
    "            'accept-language': 'en-US,en;q=0.9,en-IN;q=0.8',\n",
    "            'cache-control': 'no-cache',\n",
    "            'dnt': '1',\n",
    "            'pragma': 'no-cache',\n",
    "            'referer': 'https://foreignfortune.com/collections/',\n",
    "            'upgrade-insecure-requests': '1',\n",
    "            'user-agent': 'Mozilla/5.0 (X11; Linux x86_64) AppleWebKit/537.36 (KHTML, like Gecko) Chrome/121.0.0.0 Safari/537.36 Edg/121.0.0.0',\n",
    "        }\n",
    "        response = requests.get(collection_link+f'?page={i}', headers=headers)\n",
    "        soup = bs(response.content,'lxml')\n",
    "        page_products = ['https://foreignfortune.com/'+x['href'] for x in soup.find_all('a',{'class':'grid-view-item__link'})]\n",
    "        if len(page_products) == 0:\n",
    "            break\n",
    "        products.extend(page_products)\n",
    "    return products"
   ]
  },
  {
   "cell_type": "code",
   "execution_count": 4,
   "id": "2d6ad131",
   "metadata": {},
   "outputs": [],
   "source": [
    "def get_all_product_links(): ## Getting all product links from every category.\n",
    "    all_product_links = []\n",
    "    collections = get_collections()\n",
    "    for c in tqdm(collections,desc='Iterating through collections'):\n",
    "        all_product_links.extend(get_collection_products(c))\n",
    "    return all_product_links"
   ]
  },
  {
   "cell_type": "code",
   "execution_count": 8,
   "id": "2cd07e90",
   "metadata": {},
   "outputs": [],
   "source": [
    "def get_product_details(product_url): ## Extracting Details from a product url and returns them in a specific format in a dictionary.\n",
    "    headers = {\n",
    "        'authority': 'foreignfortune.com',\n",
    "        'accept': 'text/html,application/xhtml+xml,application/xml;q=0.9,image/avif,image/webp,image/apng,*/*;q=0.8,application/signed-exchange;v=b3;q=0.7',\n",
    "        'accept-language': 'en-US,en;q=0.9,en-IN;q=0.8',\n",
    "        'cache-control': 'no-cache',\n",
    "        'dnt': '1',\n",
    "        'pragma': 'no-cache',\n",
    "        'upgrade-insecure-requests': '1',\n",
    "        'user-agent': 'Mozilla/5.0 (X11; Linux x86_64) AppleWebKit/537.36 (KHTML, like Gecko) Chrome/121.0.0.0 Safari/537.36 Edg/121.0.0.0',\n",
    "    }\n",
    "\n",
    "    response = requests.get(\n",
    "        product_url,\n",
    "        headers=headers,\n",
    "    )\n",
    "    soup = bs(response.content,'lxml')\n",
    "    parsed_details = json.loads(soup.find('script',{'id':'ProductJson-product-template'}).text)\n",
    "    try:\n",
    "        parsed_details['image'] = json.loads(soup.find_all('script',{'type':'application/ld+json'})[1].text)['image'][0]\n",
    "    except:\n",
    "        parsed_details[\"image\"] = soup.find('meta',{'property':'og:image:secure_url'})['content']\n",
    "    parsed_details[\"description\"] = soup.find('meta',{'property':'og:description'})['content']\n",
    "    parsed_details[\"url\"] = product_url\n",
    "    parsed_details[\"currency\"] = soup.find('meta',{'property':'og:price:currency'})['content']\n",
    "    return details_formatting(parsed_details)"
   ]
  },
  {
   "cell_type": "code",
   "execution_count": 7,
   "id": "7512b8f1",
   "metadata": {},
   "outputs": [],
   "source": [
    "def details_formatting(parsed_details): # Formatting the parsed details into standardised form\n",
    "    keys = [\"product_id\", \"title\", \"image\", \"price\", \"currency\", \"description\", \"sale_prices\", \"prices\", \"images\", \"url\", \"brand\", \"models\"]\n",
    "    variants = []\n",
    "    colors = list(set([x['option2'] for x in parsed_details['variants']]))\n",
    "    models = []\n",
    "    if colors != ['']:\n",
    "        color_variants = {}\n",
    "        for c in colors:\n",
    "            color_variants.update({c:[q for q in parsed_details['variants'] if q['option2']==c]})\n",
    "        models = []\n",
    "        for cl in colors:\n",
    "            variants = []\n",
    "            for x in color_variants[cl]:\n",
    "                try:\n",
    "                    image = 'https:'+x['featured_image']['src']\n",
    "                except:\n",
    "                    image = parsed_details['image']\n",
    "                variants.append({\"id\":x['id'],\"image\":image,\"price\":x['price']/100,\"size\":x['option1'],\"style\":x['option3']})\n",
    "                models.append({\"color\":cl,\"variants\":variants})\n",
    "    if models ==[]:\n",
    "        color = \"\"\n",
    "        for x in parsed_details['variants']:\n",
    "            try:\n",
    "                image = 'https:'+x['featured_image']['src']\n",
    "            except:\n",
    "                image = parsed_details['image']\n",
    "            variants.append({\"id\":x['id'],\"image\":image,\"price\":x['price']/100,\"size\":x['option1'],\"style\":x['option3']})\n",
    "        models = [{\"color\":color,\"variants\":variants}]\n",
    "    formatted_details = {keys[0]:parsed_details['handle'],keys[1]:parsed_details[\"title\"],keys[2]:parsed_details['image'],\n",
    "                        keys[3]:parsed_details['price']/100,keys[4]:parsed_details[\"currency\"],keys[5]:parsed_details['description'],keys[6]:[parsed_details['price_min']/100],\n",
    "                        keys[7]:[parsed_details['price_max']/100],keys[8]:['https:'+x['src'] for x in parsed_details['media']],\n",
    "                        keys[9]:parsed_details['url'],keys[10]:parsed_details['vendor'],keys[11]:models}\n",
    "    return formatted_details"
   ]
  },
  {
   "cell_type": "code",
   "execution_count": 5,
   "id": "834f4fb8",
   "metadata": {},
   "outputs": [
    {
     "name": "stderr",
     "output_type": "stream",
     "text": [
      "Iterating through collections: 100%|████████████| 11/11 [00:10<00:00,  1.00it/s]\n"
     ]
    }
   ],
   "source": [
    "all_product_links = get_all_product_links()"
   ]
  },
  {
   "cell_type": "code",
   "execution_count": 9,
   "id": "de51b15b",
   "metadata": {},
   "outputs": [
    {
     "name": "stderr",
     "output_type": "stream",
     "text": [
      "getting product details: 100%|██████████████████| 71/71 [00:34<00:00,  2.08it/s]\n"
     ]
    }
   ],
   "source": [
    "result = []\n",
    "for l in tqdm(all_product_links,desc='getting product details'):\n",
    "    result.append(get_product_details(l))"
   ]
  },
  {
   "cell_type": "code",
   "execution_count": 14,
   "id": "caf33038",
   "metadata": {},
   "outputs": [],
   "source": [
    "with open('../output/foreign_fortune.json','w') as f:\n",
    "    json.dump(result,f)"
   ]
  },
  {
   "cell_type": "code",
   "execution_count": null,
   "id": "3c785679",
   "metadata": {},
   "outputs": [],
   "source": []
  }
 ],
 "metadata": {
  "kernelspec": {
   "display_name": "Python 3 (ipykernel)",
   "language": "python",
   "name": "python3"
  },
  "language_info": {
   "codemirror_mode": {
    "name": "ipython",
    "version": 3
   },
   "file_extension": ".py",
   "mimetype": "text/x-python",
   "name": "python",
   "nbconvert_exporter": "python",
   "pygments_lexer": "ipython3",
   "version": "3.10.12"
  }
 },
 "nbformat": 4,
 "nbformat_minor": 5
}
