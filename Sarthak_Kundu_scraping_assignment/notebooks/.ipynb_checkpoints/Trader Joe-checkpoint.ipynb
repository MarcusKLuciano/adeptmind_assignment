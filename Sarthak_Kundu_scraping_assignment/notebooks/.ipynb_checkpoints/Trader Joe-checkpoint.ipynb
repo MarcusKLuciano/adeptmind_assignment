{
 "cells": [
  {
   "cell_type": "code",
   "execution_count": 1,
   "id": "7a31b26b",
   "metadata": {},
   "outputs": [],
   "source": [
    "import requests,json\n",
    "import pandas as pd\n",
    "from bs4 import BeautifulSoup as bs\n",
    "from tqdm import tqdm"
   ]
  },
  {
   "cell_type": "code",
   "execution_count": 2,
   "id": "9866fdc2",
   "metadata": {},
   "outputs": [],
   "source": [
    "def get_all_products(): ## Getting products from API with 1000 Products every page. \n",
    "    result = []\n",
    "    for i in range(1,1000):\n",
    "        headers = {\n",
    "            'authority': 'www.traderjoes.com',\n",
    "            'accept': '*/*',\n",
    "            'accept-language': 'en-US,en;q=0.9,en-IN;q=0.8',\n",
    "            'cache-control': 'no-cache',\n",
    "            'content-type': 'application/json',\n",
    "            'dnt': '1',\n",
    "            'origin': 'https://www.traderjoes.com',\n",
    "            'pragma': 'no-cache',\n",
    "            'referer': 'https://www.traderjoes.com/home/products/category/products-2',\n",
    "            'user-agent': 'Mozilla/5.0 (X11; Linux x86_64) AppleWebKit/537.36 (KHTML, like Gecko) Chrome/121.0.0.0 Safari/537.36 Edg/121.0.0.0',\n",
    "        }\n",
    "\n",
    "        json_data = {\n",
    "            'operationName': 'SearchProducts',\n",
    "            'variables': {\n",
    "#                 'storeCode': 'TJ',\n",
    "                'availability': '1',\n",
    "                'published': '1',\n",
    "                'categoryId': 2,\n",
    "                'currentPage': i,\n",
    "                'pageSize': 1000,\n",
    "            },\n",
    "            'query': 'query SearchProducts($categoryId: String, $currentPage: Int, $pageSize: Int, $storeCode: String = \"\", $availability: String = \"1\", $published: String = \"1\") {\\n  products(\\n    filter: {store_code: {eq: $storeCode}, published: {eq: $published}, availability: {match: $availability}, category_id: {eq: $categoryId}}\\n    currentPage: $currentPage\\n    pageSize: $pageSize\\n  ) {\\n    items {\\n      sku\\n      item_title\\n      category_hierarchy {\\n        id\\n        name\\n        __typename\\n      }\\n      primary_image\\n      primary_image_meta {\\n        url\\n        metadata\\n        __typename\\n      }\\n      sales_size\\n      sales_uom_description\\n      price_range {\\n        minimum_price {\\n          final_price {\\n            currency\\n            value\\n            __typename\\n          }\\n          __typename\\n        }\\n        __typename\\n      }\\n      retail_price\\n      item_story_marketing\\n      fun_tags\\n      item_characteristics\\n      __typename\\n    }\\n    total_count\\n    pageInfo: page_info {\\n      currentPage: current_page\\n      totalPages: total_pages\\n      __typename\\n    }\\n    aggregations {\\n      attribute_code\\n      label\\n      count\\n      options {\\n        label\\n        value\\n        count\\n        __typename\\n      }\\n      __typename\\n    }\\n    __typename\\n  }\\n}\\n',\n",
    "        }\n",
    "\n",
    "        response = requests.post('https://www.traderjoes.com/api/graphql', headers=headers, json=json_data)\n",
    "        products_on_page = response.json()['data']['products']['items']\n",
    "        result.extend(products_on_page)\n",
    "        print(f\"Products on page {i} added to result.\")\n",
    "        if len(products_on_page)<1000: ## The loop breaks when it finds a page with less than 1000 products as it signifies end of products.\n",
    "            print('Reached end of products.')\n",
    "            break\n",
    "    return result"
   ]
  },
  {
   "cell_type": "code",
   "execution_count": 3,
   "id": "e0db8b3d",
   "metadata": {},
   "outputs": [
    {
     "name": "stdout",
     "output_type": "stream",
     "text": [
      "Products on page 1 added to result.\n",
      "Products on page 2 added to result.\n",
      "Products on page 3 added to result.\n",
      "Reached end of products.\n"
     ]
    }
   ],
   "source": [
    "result = get_all_products()"
   ]
  },
  {
   "cell_type": "code",
   "execution_count": 4,
   "id": "7448174a",
   "metadata": {},
   "outputs": [
    {
     "data": {
      "text/plain": [
       "{'sku': '075215',\n",
       " 'item_title': 'Speculoos Cookie Butter Beer',\n",
       " 'category_hierarchy': [{'id': 2,\n",
       "   'name': 'Products',\n",
       "   '__typename': 'CategoryTree'},\n",
       "  {'id': 182, 'name': 'Beverages', '__typename': 'CategoryTree'},\n",
       "  {'id': 200, 'name': 'Wine, Beer & Liquor', '__typename': 'CategoryTree'}],\n",
       " 'primary_image': '/content/dam/trjo/products/m306/beer/75215.png',\n",
       " 'primary_image_meta': {'url': '/content/dam/trjo/products/m306/beer/75215.png',\n",
       "  'metadata': '{\"src\":\"/content/dam/trjo/products/m306/beer/75215.png/jcr:content/renditions/cq5dam.web.1280.1280\",\"srcSet\":[{\"src\":\"/content/dam/trjo/products/m306/beer/75215.png/jcr:content/renditions/webp-640.webp\",\"media\":\"(max-width: 847px)\",\"type\":\"image/webp\"},{\"src\":\"/content/dam/trjo/products/m306/beer/75215.png/jcr:content/renditions/webp-1280.webp\",\"media\":\"(min-width: 848px)\",\"type\":\"image/webp\"},{\"src\":\"/content/dam/trjo/products/m306/beer/75215.png/jcr:content/renditions/cq5dam.web.640.640\",\"media\":\"(max-width: 847px)\",\"type\":\"image/png\"},{\"src\":\"/content/dam/trjo/products/m306/beer/75215.png/jcr:content/renditions/cq5dam.web.1280.1280\",\"media\":\"(min-width: 848px)\",\"type\":\"image/png\"}],\"alt\":\"Speculoos Cookie Butter Beer\",\"srcOriginal\":\"/content/dam/trjo/products/m306/beer/75215.png\"}',\n",
       "  '__typename': 'ImageWithMeta'},\n",
       " 'sales_size': 16,\n",
       " 'sales_uom_description': 'Fl Oz',\n",
       " 'price_range': {'minimum_price': {'final_price': {'currency': 'USD',\n",
       "    'value': 3.75,\n",
       "    '__typename': 'Money'},\n",
       "   '__typename': 'ProductPrice'},\n",
       "  '__typename': 'PriceRange'},\n",
       " 'retail_price': '3.75',\n",
       " 'item_story_marketing': '<p>Every now and then, we introduce a product that, from the moment it’s released, reaches a kind of instantaneously iconic status. Our Speculoos Cookie Butter certainly fits that bill. The moment this superlatively soft, sweet spread hit our grocery shelves, our customers couldn’t get enough. We heard tell of folks mixing it into brownie batter, blending it in coffee drinks, drizzling it over a sundae… This got us thinking: if cookie butter goes well with all those desserts, we bet it would taste great as a dessert <em>beer</em>, too. Lo and behold, that bet has paid off, in the form of our Speculoos Cookie Butter Beer,\\xa0</p>\\r\\n<p>It’s made in collaboration with one of our favorite craft breweries (and an award-winning producer of delicious dessert beers), Hardywood Park. For this impressive imperial golden ale, they use vanilla beans, milk sugar, and toasted coconut to evoke the sweet, caramel-y flavor of Cookie Butter in every rich, flavorful sip. It’s excellent as both an after-dinner indulgence, and when enjoyed on a long, lazy, late-summer weekend afternoon; we’re partial to pairing our Cookie Butter Beer with cheesecake, toasted Banana Bread, or baked Brie with berries.</p>',\n",
       " 'fun_tags': ['Alfresco Dining',\n",
       "  'Bibulous',\n",
       "  'Feeling Fancy',\n",
       "  'Glass Half Full'],\n",
       " 'item_characteristics': None,\n",
       " '__typename': 'SimpleProduct'}"
      ]
     },
     "execution_count": 4,
     "metadata": {},
     "output_type": "execute_result"
    }
   ],
   "source": [
    "result[0]"
   ]
  },
  {
   "cell_type": "code",
   "execution_count": 7,
   "id": "8124694c",
   "metadata": {},
   "outputs": [],
   "source": [
    "def details_formatting(pd): # Formatting the parsed details into standardised form\n",
    "    keys = [\"product_id\", \"title\", \"image\", \"price\", \"currency\", \"description\", \"sale_prices\", \"prices\", \"images\", \"url\", \"brand\", \"models\"]\n",
    "    try:\n",
    "        description = bs(pd[\"item_story_marketing\"],'lxml').get_text(strip=True)\n",
    "    except:\n",
    "        description = \"\"\n",
    "    details = {keys[0]:pd[\"sku\"],keys[1]:pd[\"item_title\"],keys[2]:\"https://www.traderjoes.com/\"+pd[\"primary_image\"],\n",
    "               keys[3]:float(pd[\"retail_price\"]),keys[4]:pd[\"price_range\"][\"minimum_price\"][\"final_price\"][\"currency\"],keys[5]:description,\n",
    "               keys[6]:pd[\"price_range\"][\"minimum_price\"][\"final_price\"][\"value\"],keys[7]:[pd[\"price_range\"][\"minimum_price\"][\"final_price\"][\"value\"],float(pd[\"retail_price\"])],\n",
    "               keys[8]:[\"https://www.traderjoes.com/\" + x[\"src\"] for x in json.loads(pd[\"primary_image_meta\"][\"metadata\"])[\"srcSet\"]],\n",
    "               keys[9]:\"https://www.traderjoes.com/home/products/pdp/\"+pd[\"item_title\"].lower().replace(' ','-')+\"-\"+str(pd[\"sku\"]),\n",
    "               keys[10]:\"Trader Joe's\", keys[11]:[{\"id\":pd[\"sku\"],\"image\":\"https://www.traderjoes.com/\"+pd[\"primary_image\"],\"size\":pd[\"sales_size\"],\"unit\":pd[\"sales_uom_description\"],\"price\":keys[3]:float(pd[\"retail_price\"])}]}\n",
    "    return details"
   ]
  },
  {
   "cell_type": "code",
   "execution_count": 6,
   "id": "7db3a407",
   "metadata": {},
   "outputs": [
    {
     "name": "stderr",
     "output_type": "stream",
     "text": [
      "100%|█████████████████████████████████████| 2033/2033 [00:00<00:00, 6991.97it/s]\n"
     ]
    }
   ],
   "source": [
    "final_result = []\n",
    "for x in tqdm(result):\n",
    "    final_result.append(details_formatting(x))"
   ]
  },
  {
   "cell_type": "code",
   "execution_count": 8,
   "id": "7b4b6e1b",
   "metadata": {},
   "outputs": [
    {
     "data": {
      "text/plain": [
       "{'product_id': '075215',\n",
       " 'title': 'Speculoos Cookie Butter Beer',\n",
       " 'image': 'https://www.traderjoes.com//content/dam/trjo/products/m306/beer/75215.png',\n",
       " 'price': 3.75,\n",
       " 'currency': 'USD',\n",
       " 'description': 'Every now and then, we introduce a product that, from the moment it’s released, reaches a kind of instantaneously iconic status. Our Speculoos Cookie Butter certainly fits that bill. The moment this superlatively soft, sweet spread hit our grocery shelves, our customers couldn’t get enough. We heard tell of folks mixing it into brownie batter, blending it in coffee drinks, drizzling it over a sundae… This got us thinking: if cookie butter goes well with all those desserts, we bet it would taste great as a dessertbeer, too. Lo and behold, that bet has paid off, in the form of our Speculoos Cookie Butter Beer,It’s made in collaboration with one of our favorite craft breweries (and an award-winning producer of delicious dessert beers), Hardywood Park. For this impressive imperial golden ale, they use vanilla beans, milk sugar, and toasted coconut to evoke the sweet, caramel-y flavor of Cookie Butter in every rich, flavorful sip. It’s excellent as both an after-dinner indulgence, and when enjoyed on a long, lazy, late-summer weekend afternoon; we’re partial to pairing our Cookie Butter Beer with cheesecake, toasted Banana Bread, or baked Brie with berries.',\n",
       " 'sale_prices': 3.75,\n",
       " 'prices': [3.75, 3.75],\n",
       " 'images': ['https://www.traderjoes.com//content/dam/trjo/products/m306/beer/75215.png/jcr:content/renditions/webp-640.webp',\n",
       "  'https://www.traderjoes.com//content/dam/trjo/products/m306/beer/75215.png/jcr:content/renditions/webp-1280.webp',\n",
       "  'https://www.traderjoes.com//content/dam/trjo/products/m306/beer/75215.png/jcr:content/renditions/cq5dam.web.640.640',\n",
       "  'https://www.traderjoes.com//content/dam/trjo/products/m306/beer/75215.png/jcr:content/renditions/cq5dam.web.1280.1280'],\n",
       " 'url': 'https://www.traderjoes.com/home/products/pdp/speculoos-cookie-butter-beer-075215',\n",
       " 'brand': \"Trader Joe's\",\n",
       " 'models': [{'id': '075215', 'size': 16, 'unit': 'Fl Oz'}]}"
      ]
     },
     "execution_count": 8,
     "metadata": {},
     "output_type": "execute_result"
    }
   ],
   "source": [
    "final_result[0]"
   ]
  },
  {
   "cell_type": "code",
   "execution_count": 9,
   "id": "4a483166",
   "metadata": {},
   "outputs": [],
   "source": [
    "with open('../output/trader_joes.json','w') as f:\n",
    "    json.dump(final_result,f)"
   ]
  },
  {
   "cell_type": "code",
   "execution_count": null,
   "id": "bfa9851a",
   "metadata": {},
   "outputs": [],
   "source": []
  }
 ],
 "metadata": {
  "kernelspec": {
   "display_name": "Python 3 (ipykernel)",
   "language": "python",
   "name": "python3"
  },
  "language_info": {
   "codemirror_mode": {
    "name": "ipython",
    "version": 3
   },
   "file_extension": ".py",
   "mimetype": "text/x-python",
   "name": "python",
   "nbconvert_exporter": "python",
   "pygments_lexer": "ipython3",
   "version": "3.10.12"
  }
 },
 "nbformat": 4,
 "nbformat_minor": 5
}
